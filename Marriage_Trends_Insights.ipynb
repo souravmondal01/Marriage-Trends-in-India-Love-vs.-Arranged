{
  "metadata": {
    "kernelspec": {
      "language": "python",
      "display_name": "Python 3",
      "name": "python3"
    },
    "language_info": {
      "name": "python",
      "version": "3.10.12",
      "mimetype": "text/x-python",
      "codemirror_mode": {
        "name": "ipython",
        "version": 3
      },
      "pygments_lexer": "ipython3",
      "nbconvert_exporter": "python",
      "file_extension": ".py"
    },
    "kaggle": {
      "accelerator": "none",
      "dataSources": [
        {
          "sourceId": 10769635,
          "sourceType": "datasetVersion",
          "datasetId": 6680932
        }
      ],
      "dockerImageVersionId": 30918,
      "isInternetEnabled": true,
      "language": "python",
      "sourceType": "notebook",
      "isGpuEnabled": false
    },
    "colab": {
      "name": "Marriage Trends Insights",
      "provenance": [],
      "include_colab_link": true
    }
  },
  "nbformat_minor": 0,
  "nbformat": 4,
  "cells": [
    {
      "cell_type": "markdown",
      "metadata": {
        "id": "view-in-github",
        "colab_type": "text"
      },
      "source": [
        "<a href=\"https://colab.research.google.com/github/souravmondal01/Marriage-Trends-in-India-Love-vs.-Arranged/blob/main/Marriage_Trends_Insights.ipynb\" target=\"_parent\"><img src=\"https://colab.research.google.com/assets/colab-badge.svg\" alt=\"Open In Colab\"/></a>"
      ]
    },
    {
      "source": [
        "# IMPORTANT: RUN THIS CELL IN ORDER TO IMPORT YOUR KAGGLE DATA SOURCES,\n",
        "# THEN FEEL FREE TO DELETE THIS CELL.\n",
        "# NOTE: THIS NOTEBOOK ENVIRONMENT DIFFERS FROM KAGGLE'S PYTHON\n",
        "# ENVIRONMENT SO THERE MAY BE MISSING LIBRARIES USED BY YOUR\n",
        "# NOTEBOOK.\n",
        "import kagglehub\n",
        "ak0212_marriage_trends_in_india_love_vs_arranged_path = kagglehub.dataset_download('ak0212/marriage-trends-in-india-love-vs-arranged')\n",
        "\n",
        "print('Data source import complete.')\n"
      ],
      "metadata": {
        "id": "yQJY7P_q0LfT",
        "outputId": "b9ce47ff-60b0-48ea-c606-b0e35e9cb471",
        "colab": {
          "base_uri": "https://localhost:8080/"
        }
      },
      "cell_type": "code",
      "outputs": [
        {
          "output_type": "stream",
          "name": "stdout",
          "text": [
            "Downloading from https://www.kaggle.com/api/v1/datasets/download/ak0212/marriage-trends-in-india-love-vs-arranged?dataset_version_number=1...\n"
          ]
        },
        {
          "output_type": "stream",
          "name": "stderr",
          "text": [
            "100%|██████████| 123k/123k [00:00<00:00, 45.8MB/s]"
          ]
        },
        {
          "output_type": "stream",
          "name": "stdout",
          "text": [
            "Extracting files...\n",
            "Data source import complete.\n"
          ]
        },
        {
          "output_type": "stream",
          "name": "stderr",
          "text": [
            "\n"
          ]
        }
      ],
      "execution_count": 1
    },
    {
      "cell_type": "markdown",
      "source": [
        "### Marriage Trends in India: Love vs. Arranged"
      ],
      "metadata": {
        "id": "iC2PLJzJ0LfW"
      }
    },
    {
      "cell_type": "markdown",
      "source": [
        "#### Table of Contents\n",
        "1. [Introduction](#Introduction)\n",
        "2. [Data Loading and Initial Exploration](#Data-Loading-and-Initial-Exploration)\n",
        "3. [Data Preprocessing](#Data-Preprocessing)\n",
        "4. [Exploratory Data Analysis (EDA)](#Exploratory-Data-Analysis)\n",
        "   - [Distribution of Marriage Type in the Data](#Distribution-of-Marriage-Type-in-the-Data)\n",
        "   - [Trends in Marriage Type Over Time](#Trends-in-Marriage-Type-Over-Time)\n",
        "   - [Age at Marriage by Marriage Type](#Age-at-Marriage-by-Marriage-Type)\n",
        "   - [Education Level Distribution](#Education-Level-Distribution)\n",
        "   - [Parental Approval Analysis](#Parental-Approval-Analysis)\n",
        "   - [Urban vs. Rural Split](#Urban-vs-Rural-Split)\n",
        "   - [Marriage Type by Religion](#Marriage-Type-by-Religion)\n",
        "   - [Marital Satisfaction Analysis](#Marital-Satisfaction-Analysis)\n",
        "   - [Divorce Trends](#Divorce-Trends)\n",
        "   - [Inter-Caste and Inter-Religion Marriages](#Inter-Caste-and-Inter-Religion-Marriages)\n",
        "   - [Spouse Working Status](#Spouse-Working-Status)\n",
        "   - [Children Count Analysis](#Children-Count-Analysis)\n",
        "   - [Dowry Trends by Urban/Rural](#Dowry-Trends-by-Urban/Rural)\n",
        "   - [Marriage Trends by Income Level](#Marriage-Trends-by-Income-Level)\n",
        "5. [Summary of Findings](#Summary-of-Findings)\n",
        "6. [Additional Analysis Suggestions](#Additional-Analysis-Suggestions)\n"
      ],
      "metadata": {
        "id": "0Zfu2bCN0LfX"
      }
    },
    {
      "cell_type": "markdown",
      "source": [
        "### Introduction\n",
        "This notebook analyzes marriage trends in India, comparing \"Love\" and \"Arranged\" marriages using the dataset from Kaggle: [Marriage Trends in India - Love vs. Arranged](https://www.kaggle.com/datasets/ak0212/marriage-trends-in-india-love-vs-arranged). We explore various factors such as age, education, parental approval, urban/rural divide, religion, marital satisfaction, divorce rates, and more."
      ],
      "metadata": {
        "id": "_mKNAmFB0LfY"
      }
    },
    {
      "cell_type": "markdown",
      "source": [
        "### Data Loading and Initial Exploration"
      ],
      "metadata": {
        "id": "CmIbChtm0LfY"
      }
    },
    {
      "cell_type": "code",
      "source": [
        "import numpy as np\n",
        "import pandas as pd\n",
        "import seaborn as sns\n",
        "import matplotlib.pyplot as plt\n",
        "from datetime import datetime\n",
        "sns.set(style='whitegrid') # Setting up visualization style\n",
        "\n",
        "\n",
        "import os\n",
        "for dirname, _, filenames in os.walk('/kaggle/input'):\n",
        "    for filename in filenames:\n",
        "        print(os.path.join(dirname, filename))\n",
        "\n"
      ],
      "metadata": {
        "_uuid": "8f2839f25d086af736a60e9eeb907d3b93b6e0e5",
        "_cell_guid": "b1076dfc-b9ad-4769-8c92-a6c4dae69d19",
        "trusted": true,
        "execution": {
          "iopub.status.busy": "2025-03-09T07:23:35.791856Z",
          "iopub.execute_input": "2025-03-09T07:23:35.79213Z",
          "iopub.status.idle": "2025-03-09T07:23:36.442938Z",
          "shell.execute_reply.started": "2025-03-09T07:23:35.792111Z",
          "shell.execute_reply": "2025-03-09T07:23:36.44223Z"
        },
        "id": "O7nplumy0LfZ"
      },
      "outputs": [],
      "execution_count": 2
    },
    {
      "cell_type": "code",
      "source": [
        "# Load the dataset\n",
        "df = pd.read_csv(f'{ak0212_marriage_trends_in_india_love_vs_arranged_path}/marriage_data_india.csv')"
      ],
      "metadata": {
        "trusted": true,
        "execution": {
          "iopub.status.busy": "2025-03-09T07:23:36.443766Z",
          "iopub.execute_input": "2025-03-09T07:23:36.444099Z",
          "iopub.status.idle": "2025-03-09T07:23:36.46826Z",
          "shell.execute_reply.started": "2025-03-09T07:23:36.444074Z",
          "shell.execute_reply": "2025-03-09T07:23:36.467704Z"
        },
        "id": "dfvArFVa0LfZ"
      },
      "outputs": [],
      "execution_count": 9
    },
    {
      "cell_type": "code",
      "source": [
        "# Display the first few rows of the dataset\n",
        "df.head(5)"
      ],
      "metadata": {
        "trusted": true,
        "execution": {
          "iopub.status.busy": "2025-03-09T07:23:36.469488Z",
          "iopub.execute_input": "2025-03-09T07:23:36.469745Z",
          "iopub.status.idle": "2025-03-09T07:23:36.482681Z",
          "shell.execute_reply.started": "2025-03-09T07:23:36.469726Z",
          "shell.execute_reply": "2025-03-09T07:23:36.482044Z"
        },
        "id": "A8vce4w50LfZ",
        "outputId": "aacc2afc-e066-49a1-b0bc-9a8067682f86",
        "colab": {
          "base_uri": "https://localhost:8080/",
          "height": 243
        }
      },
      "outputs": [
        {
          "output_type": "execute_result",
          "data": {
            "text/plain": [
              "   ID Marriage_Type  Age_at_Marriage  Gender Education_Level Caste_Match  \\\n",
              "0   1          Love               23    Male        Graduate   Different   \n",
              "1   2          Love               28  Female          School        Same   \n",
              "2   3      Arranged               39    Male    Postgraduate        Same   \n",
              "3   4      Arranged               26  Female          School   Different   \n",
              "4   5          Love               32  Female        Graduate        Same   \n",
              "\n",
              "  Religion Parental_Approval Urban_Rural Dowry_Exchanged Marital_Satisfaction  \\\n",
              "0    Hindu                No       Urban              No               Medium   \n",
              "1    Hindu               Yes       Rural             Yes                  Low   \n",
              "2   Muslim               Yes       Rural              No               Medium   \n",
              "3    Hindu               Yes       Urban             Yes                  Low   \n",
              "4    Hindu           Partial       Rural             Yes               Medium   \n",
              "\n",
              "  Divorce_Status  Children_Count Income_Level  Years_Since_Marriage  \\\n",
              "0            Yes               5       Middle                    34   \n",
              "1             No               3       Middle                    42   \n",
              "2             No               0         High                    25   \n",
              "3             No               0         High                    12   \n",
              "4             No               1       Middle                    41   \n",
              "\n",
              "  Spouse_Working Inter-Caste Inter-Religion  \n",
              "0             No          No             No  \n",
              "1             No          No            Yes  \n",
              "2             No          No             No  \n",
              "3             No         Yes             No  \n",
              "4             No          No            Yes  "
            ],
            "text/html": [
              "\n",
              "  <div id=\"df-fba126d2-834d-4d3d-ab55-de749c095b57\" class=\"colab-df-container\">\n",
              "    <div>\n",
              "<style scoped>\n",
              "    .dataframe tbody tr th:only-of-type {\n",
              "        vertical-align: middle;\n",
              "    }\n",
              "\n",
              "    .dataframe tbody tr th {\n",
              "        vertical-align: top;\n",
              "    }\n",
              "\n",
              "    .dataframe thead th {\n",
              "        text-align: right;\n",
              "    }\n",
              "</style>\n",
              "<table border=\"1\" class=\"dataframe\">\n",
              "  <thead>\n",
              "    <tr style=\"text-align: right;\">\n",
              "      <th></th>\n",
              "      <th>ID</th>\n",
              "      <th>Marriage_Type</th>\n",
              "      <th>Age_at_Marriage</th>\n",
              "      <th>Gender</th>\n",
              "      <th>Education_Level</th>\n",
              "      <th>Caste_Match</th>\n",
              "      <th>Religion</th>\n",
              "      <th>Parental_Approval</th>\n",
              "      <th>Urban_Rural</th>\n",
              "      <th>Dowry_Exchanged</th>\n",
              "      <th>Marital_Satisfaction</th>\n",
              "      <th>Divorce_Status</th>\n",
              "      <th>Children_Count</th>\n",
              "      <th>Income_Level</th>\n",
              "      <th>Years_Since_Marriage</th>\n",
              "      <th>Spouse_Working</th>\n",
              "      <th>Inter-Caste</th>\n",
              "      <th>Inter-Religion</th>\n",
              "    </tr>\n",
              "  </thead>\n",
              "  <tbody>\n",
              "    <tr>\n",
              "      <th>0</th>\n",
              "      <td>1</td>\n",
              "      <td>Love</td>\n",
              "      <td>23</td>\n",
              "      <td>Male</td>\n",
              "      <td>Graduate</td>\n",
              "      <td>Different</td>\n",
              "      <td>Hindu</td>\n",
              "      <td>No</td>\n",
              "      <td>Urban</td>\n",
              "      <td>No</td>\n",
              "      <td>Medium</td>\n",
              "      <td>Yes</td>\n",
              "      <td>5</td>\n",
              "      <td>Middle</td>\n",
              "      <td>34</td>\n",
              "      <td>No</td>\n",
              "      <td>No</td>\n",
              "      <td>No</td>\n",
              "    </tr>\n",
              "    <tr>\n",
              "      <th>1</th>\n",
              "      <td>2</td>\n",
              "      <td>Love</td>\n",
              "      <td>28</td>\n",
              "      <td>Female</td>\n",
              "      <td>School</td>\n",
              "      <td>Same</td>\n",
              "      <td>Hindu</td>\n",
              "      <td>Yes</td>\n",
              "      <td>Rural</td>\n",
              "      <td>Yes</td>\n",
              "      <td>Low</td>\n",
              "      <td>No</td>\n",
              "      <td>3</td>\n",
              "      <td>Middle</td>\n",
              "      <td>42</td>\n",
              "      <td>No</td>\n",
              "      <td>No</td>\n",
              "      <td>Yes</td>\n",
              "    </tr>\n",
              "    <tr>\n",
              "      <th>2</th>\n",
              "      <td>3</td>\n",
              "      <td>Arranged</td>\n",
              "      <td>39</td>\n",
              "      <td>Male</td>\n",
              "      <td>Postgraduate</td>\n",
              "      <td>Same</td>\n",
              "      <td>Muslim</td>\n",
              "      <td>Yes</td>\n",
              "      <td>Rural</td>\n",
              "      <td>No</td>\n",
              "      <td>Medium</td>\n",
              "      <td>No</td>\n",
              "      <td>0</td>\n",
              "      <td>High</td>\n",
              "      <td>25</td>\n",
              "      <td>No</td>\n",
              "      <td>No</td>\n",
              "      <td>No</td>\n",
              "    </tr>\n",
              "    <tr>\n",
              "      <th>3</th>\n",
              "      <td>4</td>\n",
              "      <td>Arranged</td>\n",
              "      <td>26</td>\n",
              "      <td>Female</td>\n",
              "      <td>School</td>\n",
              "      <td>Different</td>\n",
              "      <td>Hindu</td>\n",
              "      <td>Yes</td>\n",
              "      <td>Urban</td>\n",
              "      <td>Yes</td>\n",
              "      <td>Low</td>\n",
              "      <td>No</td>\n",
              "      <td>0</td>\n",
              "      <td>High</td>\n",
              "      <td>12</td>\n",
              "      <td>No</td>\n",
              "      <td>Yes</td>\n",
              "      <td>No</td>\n",
              "    </tr>\n",
              "    <tr>\n",
              "      <th>4</th>\n",
              "      <td>5</td>\n",
              "      <td>Love</td>\n",
              "      <td>32</td>\n",
              "      <td>Female</td>\n",
              "      <td>Graduate</td>\n",
              "      <td>Same</td>\n",
              "      <td>Hindu</td>\n",
              "      <td>Partial</td>\n",
              "      <td>Rural</td>\n",
              "      <td>Yes</td>\n",
              "      <td>Medium</td>\n",
              "      <td>No</td>\n",
              "      <td>1</td>\n",
              "      <td>Middle</td>\n",
              "      <td>41</td>\n",
              "      <td>No</td>\n",
              "      <td>No</td>\n",
              "      <td>Yes</td>\n",
              "    </tr>\n",
              "  </tbody>\n",
              "</table>\n",
              "</div>\n",
              "    <div class=\"colab-df-buttons\">\n",
              "\n",
              "  <div class=\"colab-df-container\">\n",
              "    <button class=\"colab-df-convert\" onclick=\"convertToInteractive('df-fba126d2-834d-4d3d-ab55-de749c095b57')\"\n",
              "            title=\"Convert this dataframe to an interactive table.\"\n",
              "            style=\"display:none;\">\n",
              "\n",
              "  <svg xmlns=\"http://www.w3.org/2000/svg\" height=\"24px\" viewBox=\"0 -960 960 960\">\n",
              "    <path d=\"M120-120v-720h720v720H120Zm60-500h600v-160H180v160Zm220 220h160v-160H400v160Zm0 220h160v-160H400v160ZM180-400h160v-160H180v160Zm440 0h160v-160H620v160ZM180-180h160v-160H180v160Zm440 0h160v-160H620v160Z\"/>\n",
              "  </svg>\n",
              "    </button>\n",
              "\n",
              "  <style>\n",
              "    .colab-df-container {\n",
              "      display:flex;\n",
              "      gap: 12px;\n",
              "    }\n",
              "\n",
              "    .colab-df-convert {\n",
              "      background-color: #E8F0FE;\n",
              "      border: none;\n",
              "      border-radius: 50%;\n",
              "      cursor: pointer;\n",
              "      display: none;\n",
              "      fill: #1967D2;\n",
              "      height: 32px;\n",
              "      padding: 0 0 0 0;\n",
              "      width: 32px;\n",
              "    }\n",
              "\n",
              "    .colab-df-convert:hover {\n",
              "      background-color: #E2EBFA;\n",
              "      box-shadow: 0px 1px 2px rgba(60, 64, 67, 0.3), 0px 1px 3px 1px rgba(60, 64, 67, 0.15);\n",
              "      fill: #174EA6;\n",
              "    }\n",
              "\n",
              "    .colab-df-buttons div {\n",
              "      margin-bottom: 4px;\n",
              "    }\n",
              "\n",
              "    [theme=dark] .colab-df-convert {\n",
              "      background-color: #3B4455;\n",
              "      fill: #D2E3FC;\n",
              "    }\n",
              "\n",
              "    [theme=dark] .colab-df-convert:hover {\n",
              "      background-color: #434B5C;\n",
              "      box-shadow: 0px 1px 3px 1px rgba(0, 0, 0, 0.15);\n",
              "      filter: drop-shadow(0px 1px 2px rgba(0, 0, 0, 0.3));\n",
              "      fill: #FFFFFF;\n",
              "    }\n",
              "  </style>\n",
              "\n",
              "    <script>\n",
              "      const buttonEl =\n",
              "        document.querySelector('#df-fba126d2-834d-4d3d-ab55-de749c095b57 button.colab-df-convert');\n",
              "      buttonEl.style.display =\n",
              "        google.colab.kernel.accessAllowed ? 'block' : 'none';\n",
              "\n",
              "      async function convertToInteractive(key) {\n",
              "        const element = document.querySelector('#df-fba126d2-834d-4d3d-ab55-de749c095b57');\n",
              "        const dataTable =\n",
              "          await google.colab.kernel.invokeFunction('convertToInteractive',\n",
              "                                                    [key], {});\n",
              "        if (!dataTable) return;\n",
              "\n",
              "        const docLinkHtml = 'Like what you see? Visit the ' +\n",
              "          '<a target=\"_blank\" href=https://colab.research.google.com/notebooks/data_table.ipynb>data table notebook</a>'\n",
              "          + ' to learn more about interactive tables.';\n",
              "        element.innerHTML = '';\n",
              "        dataTable['output_type'] = 'display_data';\n",
              "        await google.colab.output.renderOutput(dataTable, element);\n",
              "        const docLink = document.createElement('div');\n",
              "        docLink.innerHTML = docLinkHtml;\n",
              "        element.appendChild(docLink);\n",
              "      }\n",
              "    </script>\n",
              "  </div>\n",
              "\n",
              "\n",
              "<div id=\"df-838d77a9-c8aa-46ae-aba7-76c61b3a4b8e\">\n",
              "  <button class=\"colab-df-quickchart\" onclick=\"quickchart('df-838d77a9-c8aa-46ae-aba7-76c61b3a4b8e')\"\n",
              "            title=\"Suggest charts\"\n",
              "            style=\"display:none;\">\n",
              "\n",
              "<svg xmlns=\"http://www.w3.org/2000/svg\" height=\"24px\"viewBox=\"0 0 24 24\"\n",
              "     width=\"24px\">\n",
              "    <g>\n",
              "        <path d=\"M19 3H5c-1.1 0-2 .9-2 2v14c0 1.1.9 2 2 2h14c1.1 0 2-.9 2-2V5c0-1.1-.9-2-2-2zM9 17H7v-7h2v7zm4 0h-2V7h2v10zm4 0h-2v-4h2v4z\"/>\n",
              "    </g>\n",
              "</svg>\n",
              "  </button>\n",
              "\n",
              "<style>\n",
              "  .colab-df-quickchart {\n",
              "      --bg-color: #E8F0FE;\n",
              "      --fill-color: #1967D2;\n",
              "      --hover-bg-color: #E2EBFA;\n",
              "      --hover-fill-color: #174EA6;\n",
              "      --disabled-fill-color: #AAA;\n",
              "      --disabled-bg-color: #DDD;\n",
              "  }\n",
              "\n",
              "  [theme=dark] .colab-df-quickchart {\n",
              "      --bg-color: #3B4455;\n",
              "      --fill-color: #D2E3FC;\n",
              "      --hover-bg-color: #434B5C;\n",
              "      --hover-fill-color: #FFFFFF;\n",
              "      --disabled-bg-color: #3B4455;\n",
              "      --disabled-fill-color: #666;\n",
              "  }\n",
              "\n",
              "  .colab-df-quickchart {\n",
              "    background-color: var(--bg-color);\n",
              "    border: none;\n",
              "    border-radius: 50%;\n",
              "    cursor: pointer;\n",
              "    display: none;\n",
              "    fill: var(--fill-color);\n",
              "    height: 32px;\n",
              "    padding: 0;\n",
              "    width: 32px;\n",
              "  }\n",
              "\n",
              "  .colab-df-quickchart:hover {\n",
              "    background-color: var(--hover-bg-color);\n",
              "    box-shadow: 0 1px 2px rgba(60, 64, 67, 0.3), 0 1px 3px 1px rgba(60, 64, 67, 0.15);\n",
              "    fill: var(--button-hover-fill-color);\n",
              "  }\n",
              "\n",
              "  .colab-df-quickchart-complete:disabled,\n",
              "  .colab-df-quickchart-complete:disabled:hover {\n",
              "    background-color: var(--disabled-bg-color);\n",
              "    fill: var(--disabled-fill-color);\n",
              "    box-shadow: none;\n",
              "  }\n",
              "\n",
              "  .colab-df-spinner {\n",
              "    border: 2px solid var(--fill-color);\n",
              "    border-color: transparent;\n",
              "    border-bottom-color: var(--fill-color);\n",
              "    animation:\n",
              "      spin 1s steps(1) infinite;\n",
              "  }\n",
              "\n",
              "  @keyframes spin {\n",
              "    0% {\n",
              "      border-color: transparent;\n",
              "      border-bottom-color: var(--fill-color);\n",
              "      border-left-color: var(--fill-color);\n",
              "    }\n",
              "    20% {\n",
              "      border-color: transparent;\n",
              "      border-left-color: var(--fill-color);\n",
              "      border-top-color: var(--fill-color);\n",
              "    }\n",
              "    30% {\n",
              "      border-color: transparent;\n",
              "      border-left-color: var(--fill-color);\n",
              "      border-top-color: var(--fill-color);\n",
              "      border-right-color: var(--fill-color);\n",
              "    }\n",
              "    40% {\n",
              "      border-color: transparent;\n",
              "      border-right-color: var(--fill-color);\n",
              "      border-top-color: var(--fill-color);\n",
              "    }\n",
              "    60% {\n",
              "      border-color: transparent;\n",
              "      border-right-color: var(--fill-color);\n",
              "    }\n",
              "    80% {\n",
              "      border-color: transparent;\n",
              "      border-right-color: var(--fill-color);\n",
              "      border-bottom-color: var(--fill-color);\n",
              "    }\n",
              "    90% {\n",
              "      border-color: transparent;\n",
              "      border-bottom-color: var(--fill-color);\n",
              "    }\n",
              "  }\n",
              "</style>\n",
              "\n",
              "  <script>\n",
              "    async function quickchart(key) {\n",
              "      const quickchartButtonEl =\n",
              "        document.querySelector('#' + key + ' button');\n",
              "      quickchartButtonEl.disabled = true;  // To prevent multiple clicks.\n",
              "      quickchartButtonEl.classList.add('colab-df-spinner');\n",
              "      try {\n",
              "        const charts = await google.colab.kernel.invokeFunction(\n",
              "            'suggestCharts', [key], {});\n",
              "      } catch (error) {\n",
              "        console.error('Error during call to suggestCharts:', error);\n",
              "      }\n",
              "      quickchartButtonEl.classList.remove('colab-df-spinner');\n",
              "      quickchartButtonEl.classList.add('colab-df-quickchart-complete');\n",
              "    }\n",
              "    (() => {\n",
              "      let quickchartButtonEl =\n",
              "        document.querySelector('#df-838d77a9-c8aa-46ae-aba7-76c61b3a4b8e button');\n",
              "      quickchartButtonEl.style.display =\n",
              "        google.colab.kernel.accessAllowed ? 'block' : 'none';\n",
              "    })();\n",
              "  </script>\n",
              "</div>\n",
              "\n",
              "    </div>\n",
              "  </div>\n"
            ],
            "application/vnd.google.colaboratory.intrinsic+json": {
              "type": "dataframe",
              "variable_name": "df",
              "summary": "{\n  \"name\": \"df\",\n  \"rows\": 10000,\n  \"fields\": [\n    {\n      \"column\": \"ID\",\n      \"properties\": {\n        \"dtype\": \"number\",\n        \"std\": 2886,\n        \"min\": 1,\n        \"max\": 10000,\n        \"num_unique_values\": 10000,\n        \"samples\": [\n          6253,\n          4685,\n          1732\n        ],\n        \"semantic_type\": \"\",\n        \"description\": \"\"\n      }\n    },\n    {\n      \"column\": \"Marriage_Type\",\n      \"properties\": {\n        \"dtype\": \"category\",\n        \"num_unique_values\": 2,\n        \"samples\": [\n          \"Arranged\",\n          \"Love\"\n        ],\n        \"semantic_type\": \"\",\n        \"description\": \"\"\n      }\n    },\n    {\n      \"column\": \"Age_at_Marriage\",\n      \"properties\": {\n        \"dtype\": \"number\",\n        \"std\": 6,\n        \"min\": 18,\n        \"max\": 39,\n        \"num_unique_values\": 22,\n        \"samples\": [\n          23,\n          27\n        ],\n        \"semantic_type\": \"\",\n        \"description\": \"\"\n      }\n    },\n    {\n      \"column\": \"Gender\",\n      \"properties\": {\n        \"dtype\": \"category\",\n        \"num_unique_values\": 2,\n        \"samples\": [\n          \"Female\",\n          \"Male\"\n        ],\n        \"semantic_type\": \"\",\n        \"description\": \"\"\n      }\n    },\n    {\n      \"column\": \"Education_Level\",\n      \"properties\": {\n        \"dtype\": \"category\",\n        \"num_unique_values\": 4,\n        \"samples\": [\n          \"School\",\n          \"PhD\"\n        ],\n        \"semantic_type\": \"\",\n        \"description\": \"\"\n      }\n    },\n    {\n      \"column\": \"Caste_Match\",\n      \"properties\": {\n        \"dtype\": \"category\",\n        \"num_unique_values\": 2,\n        \"samples\": [\n          \"Same\",\n          \"Different\"\n        ],\n        \"semantic_type\": \"\",\n        \"description\": \"\"\n      }\n    },\n    {\n      \"column\": \"Religion\",\n      \"properties\": {\n        \"dtype\": \"category\",\n        \"num_unique_values\": 5,\n        \"samples\": [\n          \"Muslim\",\n          \"Others\"\n        ],\n        \"semantic_type\": \"\",\n        \"description\": \"\"\n      }\n    },\n    {\n      \"column\": \"Parental_Approval\",\n      \"properties\": {\n        \"dtype\": \"category\",\n        \"num_unique_values\": 3,\n        \"samples\": [\n          \"No\",\n          \"Yes\"\n        ],\n        \"semantic_type\": \"\",\n        \"description\": \"\"\n      }\n    },\n    {\n      \"column\": \"Urban_Rural\",\n      \"properties\": {\n        \"dtype\": \"category\",\n        \"num_unique_values\": 2,\n        \"samples\": [\n          \"Rural\",\n          \"Urban\"\n        ],\n        \"semantic_type\": \"\",\n        \"description\": \"\"\n      }\n    },\n    {\n      \"column\": \"Dowry_Exchanged\",\n      \"properties\": {\n        \"dtype\": \"category\",\n        \"num_unique_values\": 3,\n        \"samples\": [\n          \"No\",\n          \"Yes\"\n        ],\n        \"semantic_type\": \"\",\n        \"description\": \"\"\n      }\n    },\n    {\n      \"column\": \"Marital_Satisfaction\",\n      \"properties\": {\n        \"dtype\": \"category\",\n        \"num_unique_values\": 3,\n        \"samples\": [\n          \"Medium\",\n          \"Low\"\n        ],\n        \"semantic_type\": \"\",\n        \"description\": \"\"\n      }\n    },\n    {\n      \"column\": \"Divorce_Status\",\n      \"properties\": {\n        \"dtype\": \"category\",\n        \"num_unique_values\": 2,\n        \"samples\": [\n          \"No\",\n          \"Yes\"\n        ],\n        \"semantic_type\": \"\",\n        \"description\": \"\"\n      }\n    },\n    {\n      \"column\": \"Children_Count\",\n      \"properties\": {\n        \"dtype\": \"number\",\n        \"std\": 1,\n        \"min\": 0,\n        \"max\": 5,\n        \"num_unique_values\": 6,\n        \"samples\": [\n          5,\n          3\n        ],\n        \"semantic_type\": \"\",\n        \"description\": \"\"\n      }\n    },\n    {\n      \"column\": \"Income_Level\",\n      \"properties\": {\n        \"dtype\": \"category\",\n        \"num_unique_values\": 3,\n        \"samples\": [\n          \"Middle\",\n          \"High\"\n        ],\n        \"semantic_type\": \"\",\n        \"description\": \"\"\n      }\n    },\n    {\n      \"column\": \"Years_Since_Marriage\",\n      \"properties\": {\n        \"dtype\": \"number\",\n        \"std\": 14,\n        \"min\": 1,\n        \"max\": 49,\n        \"num_unique_values\": 49,\n        \"samples\": [\n          1,\n          2\n        ],\n        \"semantic_type\": \"\",\n        \"description\": \"\"\n      }\n    },\n    {\n      \"column\": \"Spouse_Working\",\n      \"properties\": {\n        \"dtype\": \"category\",\n        \"num_unique_values\": 2,\n        \"samples\": [\n          \"Yes\",\n          \"No\"\n        ],\n        \"semantic_type\": \"\",\n        \"description\": \"\"\n      }\n    },\n    {\n      \"column\": \"Inter-Caste\",\n      \"properties\": {\n        \"dtype\": \"category\",\n        \"num_unique_values\": 2,\n        \"samples\": [\n          \"Yes\",\n          \"No\"\n        ],\n        \"semantic_type\": \"\",\n        \"description\": \"\"\n      }\n    },\n    {\n      \"column\": \"Inter-Religion\",\n      \"properties\": {\n        \"dtype\": \"category\",\n        \"num_unique_values\": 2,\n        \"samples\": [\n          \"Yes\",\n          \"No\"\n        ],\n        \"semantic_type\": \"\",\n        \"description\": \"\"\n      }\n    }\n  ]\n}"
            }
          },
          "metadata": {},
          "execution_count": 10
        }
      ],
      "execution_count": 10
    },
    {
      "cell_type": "code",
      "source": [
        "# Basic information about the dataset\n",
        "df.info()"
      ],
      "metadata": {
        "trusted": true,
        "execution": {
          "iopub.status.busy": "2025-03-09T07:23:36.484114Z",
          "iopub.execute_input": "2025-03-09T07:23:36.484539Z",
          "iopub.status.idle": "2025-03-09T07:23:36.498381Z",
          "shell.execute_reply.started": "2025-03-09T07:23:36.48451Z",
          "shell.execute_reply": "2025-03-09T07:23:36.497636Z"
        },
        "id": "8GmY-gMv0LfZ"
      },
      "outputs": [],
      "execution_count": null
    },
    {
      "cell_type": "markdown",
      "source": [
        "**Comments:**\n",
        "- We import essential libraries for data analysis and visualization.\n",
        "- The dataset is loaded from the specified Kaggle path.\n",
        "- `head(5)` shows the first five rows to understand the structure.\n",
        "- `info()` provides an overview of data types and missing values."
      ],
      "metadata": {
        "id": "Li_yWX2B0Lfa"
      }
    },
    {
      "cell_type": "markdown",
      "source": [
        "### Data Preprocessing"
      ],
      "metadata": {
        "id": "iUPePeKC0Lfa"
      }
    },
    {
      "cell_type": "code",
      "source": [
        "# Get the current year\n",
        "current_year = datetime.now().year\n",
        "\n",
        "# Calculate the Year of Marriage\n",
        "df['Year_of_Marriage'] = current_year - df['Years_Since_Marriage']\n",
        "\n",
        "# Verify the new column\n",
        "df.head()"
      ],
      "metadata": {
        "trusted": true,
        "execution": {
          "iopub.status.busy": "2025-03-09T07:23:36.499073Z",
          "iopub.execute_input": "2025-03-09T07:23:36.499308Z",
          "iopub.status.idle": "2025-03-09T07:23:36.519361Z",
          "shell.execute_reply.started": "2025-03-09T07:23:36.499286Z",
          "shell.execute_reply": "2025-03-09T07:23:36.518483Z"
        },
        "id": "_mM7zjIZ0Lfa"
      },
      "outputs": [],
      "execution_count": null
    },
    {
      "cell_type": "markdown",
      "source": [
        "**Comments:**\n",
        "- A new column `Year_of_Marriage` is created by subtracting `Years_Since_Marriage` from the current year (2025 as of March 08, 2025).\n",
        "- This helps analyze trends over time."
      ],
      "metadata": {
        "id": "_WH6dBzV0Lfa"
      }
    },
    {
      "cell_type": "markdown",
      "source": [
        "### Exploratory Data Analysis (EDA)\n",
        "#### Distribution of Marriage Type in the Data"
      ],
      "metadata": {
        "id": "r7xbhdZf0Lfa"
      }
    },
    {
      "cell_type": "code",
      "source": [
        "plt.figure(figsize=(8, 5))\n",
        "sns.countplot(data=df, x='Marriage_Type', palette='viridis')\n",
        "plt.title('Distribution of Marriage Types')\n",
        "plt.xlabel('Marriage Type')\n",
        "plt.ylabel('Count')\n",
        "plt.xticks(rotation=45)\n",
        "plt.show()"
      ],
      "metadata": {
        "trusted": true,
        "execution": {
          "iopub.status.busy": "2025-03-09T07:23:36.519977Z",
          "iopub.execute_input": "2025-03-09T07:23:36.520183Z",
          "iopub.status.idle": "2025-03-09T07:23:36.714854Z",
          "shell.execute_reply.started": "2025-03-09T07:23:36.520165Z",
          "shell.execute_reply": "2025-03-09T07:23:36.714075Z"
        },
        "id": "qgFcW2Vk0Lfb"
      },
      "outputs": [],
      "execution_count": null
    },
    {
      "cell_type": "markdown",
      "source": [
        "#### Trends in Marriage Type Over Time"
      ],
      "metadata": {
        "id": "7SV8W4680Lfb"
      }
    },
    {
      "cell_type": "code",
      "source": [
        "# Calculate the percentage split per Year_of_Marriage\n",
        "yearly_counts = df.groupby(['Year_of_Marriage','Marriage_Type']).size().unstack(fill_value=0)\n",
        "yearly_percent = yearly_counts.div(yearly_counts.sum(axis=1),axis=0) * 100 # Convert to %\n",
        "yearly_percent"
      ],
      "metadata": {
        "trusted": true,
        "execution": {
          "iopub.status.busy": "2025-03-09T07:23:36.715552Z",
          "iopub.execute_input": "2025-03-09T07:23:36.715776Z",
          "iopub.status.idle": "2025-03-09T07:23:36.730699Z",
          "shell.execute_reply.started": "2025-03-09T07:23:36.715752Z",
          "shell.execute_reply": "2025-03-09T07:23:36.73015Z"
        },
        "id": "iYDMksMK0Lfb"
      },
      "outputs": [],
      "execution_count": null
    },
    {
      "cell_type": "code",
      "source": [
        "# Create the figure and axis\n",
        "fig, ax = plt.subplots(figsize=(10, 6))\n",
        "\n",
        "# Plot actual data as a **line graph** instead of a bar chart\n",
        "for marriage_type in yearly_percent.columns:\n",
        "    ax.plot(yearly_percent.index, yearly_percent[marriage_type], marker='o', linestyle='solid', label=f'Actual: {marriage_type}', linewidth=2, alpha=0.8)\n",
        "\n",
        "# Overlay trend lines\n",
        "for marriage_type in yearly_percent.columns:\n",
        "    x = yearly_percent.index.astype(int)  # Convert index (year) to int\n",
        "    y = yearly_percent[marriage_type]\n",
        "\n",
        "    # Fit a linear regression line\n",
        "    slope, intercept = np.polyfit(x, y, 1)  # y = mx + c\n",
        "    trend_line = slope * x + intercept\n",
        "\n",
        "    # Plot the trend line\n",
        "    ax.plot(x, trend_line, linestyle='dashed', linewidth=2, label=f'Trend: {marriage_type}', alpha=0.8)\n",
        "\n",
        "# Formatting\n",
        "ax.set_title('Love vs. Arranged Marriage Trends Over the Years', fontsize=14)\n",
        "ax.set_xlabel('Year of Marriage', fontsize=12)\n",
        "ax.set_ylabel('Percentage (%)', fontsize=12)\n",
        "ax.set_xticks(yearly_percent.index)\n",
        "ax.set_xticklabels(yearly_percent.index, rotation=45)\n",
        "ax.grid(axis='y', linestyle='--', alpha=0.6)\n",
        "\n",
        "legend = ax.legend(title='Marriage Type & Trends', loc='upper center', bbox_to_anchor=(0.5, -0.2), ncol=2, frameon=False)\n",
        "\n",
        "# Adjust layout to prevent legend from overlapping\n",
        "plt.tight_layout(rect=[0, 0.1, 1, 1])  # Leaves space at the bottom for the legend\n",
        "\n",
        "# Show the plot\n",
        "plt.show()\n"
      ],
      "metadata": {
        "trusted": true,
        "execution": {
          "iopub.status.busy": "2025-03-09T07:23:36.732683Z",
          "iopub.execute_input": "2025-03-09T07:23:36.732863Z",
          "iopub.status.idle": "2025-03-09T07:23:37.365335Z",
          "shell.execute_reply.started": "2025-03-09T07:23:36.732847Z",
          "shell.execute_reply": "2025-03-09T07:23:37.364466Z"
        },
        "id": "KU5puPIn0Lfb"
      },
      "outputs": [],
      "execution_count": null
    },
    {
      "cell_type": "markdown",
      "source": [
        "**Comments:**\n",
        "- This section visualizes the percentage of Love vs. Arranged marriages over time.\n",
        "- A line graph with trend lines shows the evolution and direction of these trends."
      ],
      "metadata": {
        "id": "F-OdlFmh0Lfb"
      }
    },
    {
      "cell_type": "markdown",
      "source": [
        "#### Age at Marriage by Marriage Type"
      ],
      "metadata": {
        "id": "Q8XK59yP0Lfc"
      }
    },
    {
      "cell_type": "code",
      "source": [
        "average_age = df.groupby('Marriage_Type')['Age_at_Marriage'].mean()\n",
        "average_age"
      ],
      "metadata": {
        "trusted": true,
        "execution": {
          "iopub.status.busy": "2025-03-09T07:23:37.366423Z",
          "iopub.execute_input": "2025-03-09T07:23:37.3666Z",
          "iopub.status.idle": "2025-03-09T07:23:37.373501Z",
          "shell.execute_reply.started": "2025-03-09T07:23:37.366584Z",
          "shell.execute_reply": "2025-03-09T07:23:37.372711Z"
        },
        "id": "FNtRPGAY0Lfc"
      },
      "outputs": [],
      "execution_count": null
    },
    {
      "cell_type": "markdown",
      "source": [
        "**Comments:**\n",
        "- Computes the mean age at marriage for Love and Arranged marriages."
      ],
      "metadata": {
        "id": "lE85JCrz0Lfc"
      }
    },
    {
      "cell_type": "markdown",
      "source": [
        "#### Education Level Distribution"
      ],
      "metadata": {
        "id": "COLcVGty0Lfc"
      }
    },
    {
      "cell_type": "code",
      "source": [
        "# Count occurrences of Education Level per Marriage Type\n",
        "parental_counts = df.groupby('Education_Level')['Marriage_Type'].value_counts().unstack(fill_value=0)\n",
        "\n",
        "# Convert to percentage\n",
        "parental_percentage = parental_counts.div(parental_counts.sum(axis=1), axis=0).mul(100)\n",
        "\n",
        "# Combine both counts and percentages into one DataFrame\n",
        "parental_summary = parental_counts.astype(str) + \" (\" + parental_percentage.round(2).astype(str) + \"%)\"\n",
        "\n",
        "# Display result\n",
        "print(parental_summary)\n"
      ],
      "metadata": {
        "trusted": true,
        "execution": {
          "iopub.status.busy": "2025-03-09T07:23:37.374245Z",
          "iopub.execute_input": "2025-03-09T07:23:37.37449Z",
          "iopub.status.idle": "2025-03-09T07:23:37.3937Z",
          "shell.execute_reply.started": "2025-03-09T07:23:37.374467Z",
          "shell.execute_reply": "2025-03-09T07:23:37.393022Z"
        },
        "id": "BwlCex1A0Lfc"
      },
      "outputs": [],
      "execution_count": null
    },
    {
      "cell_type": "markdown",
      "source": [
        "**Comments:**\n",
        "- Analyzes the distribution of education levels within each marriage type."
      ],
      "metadata": {
        "id": "Ex_oCz5Y0Lfc"
      }
    },
    {
      "cell_type": "markdown",
      "source": [
        "#### Parental Approval Analysis"
      ],
      "metadata": {
        "id": "SE0wm_N80Lfd"
      }
    },
    {
      "cell_type": "code",
      "source": [
        "# Count occurrences of Parental Approval per Marriage Type\n",
        "parental_counts = df.groupby('Marriage_Type')['Parental_Approval'].value_counts().unstack(fill_value=0)\n",
        "\n",
        "# Convert to percentage\n",
        "parental_percentage = parental_counts.div(parental_counts.sum(axis=1), axis=0).mul(100)\n",
        "\n",
        "# Combine both counts and percentages into one DataFrame\n",
        "parental_summary = parental_counts.astype(str) + \" (\" + parental_percentage.round(2).astype(str) + \"%)\"\n",
        "\n",
        "# Display result\n",
        "print(parental_summary)\n"
      ],
      "metadata": {
        "trusted": true,
        "execution": {
          "iopub.status.busy": "2025-03-09T07:23:37.394339Z",
          "iopub.execute_input": "2025-03-09T07:23:37.394583Z",
          "iopub.status.idle": "2025-03-09T07:23:37.405941Z",
          "shell.execute_reply.started": "2025-03-09T07:23:37.394555Z",
          "shell.execute_reply": "2025-03-09T07:23:37.405128Z"
        },
        "id": "V-poSuXM0Lfd"
      },
      "outputs": [],
      "execution_count": null
    },
    {
      "cell_type": "markdown",
      "source": [
        "**Comments:**\n",
        "- Examines the extent of parental approval in Love vs. Arranged marriages."
      ],
      "metadata": {
        "id": "judup0Ds0Lfd"
      }
    },
    {
      "cell_type": "markdown",
      "source": [
        "#### Urban vs. Rural Split"
      ],
      "metadata": {
        "id": "dcORjbCB0Lfd"
      }
    },
    {
      "cell_type": "code",
      "source": [
        "# Count occurrences of Marriage by Urban Vs Rural\n",
        "parental_counts = df.groupby('Urban_Rural')['Marriage_Type'].value_counts().unstack(fill_value=0)\n",
        "\n",
        "# Convert to percentage\n",
        "parental_percentage = parental_counts.div(parental_counts.sum(axis=1), axis=0).mul(100)\n",
        "\n",
        "# Combine both counts and percentages into one DataFrame\n",
        "parental_summary = parental_counts.astype(str) + \" (\" + parental_percentage.round(2).astype(str) + \"%)\"\n",
        "\n",
        "# Display result\n",
        "print(parental_summary)\n"
      ],
      "metadata": {
        "trusted": true,
        "execution": {
          "iopub.status.busy": "2025-03-09T07:23:37.406657Z",
          "iopub.execute_input": "2025-03-09T07:23:37.406909Z",
          "iopub.status.idle": "2025-03-09T07:23:37.418559Z",
          "shell.execute_reply.started": "2025-03-09T07:23:37.406891Z",
          "shell.execute_reply": "2025-03-09T07:23:37.417854Z"
        },
        "id": "LqlghFJL0Lfd"
      },
      "outputs": [],
      "execution_count": null
    },
    {
      "cell_type": "code",
      "source": [
        "# Step 1: Calculate % of Love Marriages per Year for each Urban/Rural category\n",
        "love_marriages = df[df['Marriage_Type'] == 'Love'].groupby(['Year_of_Marriage', 'Urban_Rural']).size()\n",
        "total_marriages = df.groupby(['Year_of_Marriage', 'Urban_Rural']).size()\n",
        "love_percentage = (love_marriages / total_marriages * 100).unstack(fill_value=0)\n",
        "\n",
        "# Step 2: Plot the graph\n",
        "fig, ax = plt.subplots(figsize=(10, 6))\n",
        "\n",
        "# Iterate over Urban & Rural categories to plot data and trend lines\n",
        "for location in love_percentage.columns:\n",
        "    x = love_percentage.index.astype(int)\n",
        "    y = love_percentage[location]\n",
        "\n",
        "    # Plot actual data as a line graph\n",
        "    ax.plot(x, y, marker='o', linestyle='solid', label=f'Actual: {location}', linewidth=2, alpha=0.8)\n",
        "\n",
        "    # Fit a linear trend line\n",
        "    slope, intercept = np.polyfit(x, y, 1)\n",
        "    trend_line = slope * x + intercept\n",
        "    ax.plot(x, trend_line, linestyle='dashed', linewidth=2, label=f'Trend: {location}', alpha=0.8)\n",
        "\n",
        "# Formatting\n",
        "ax.set_title('% of Love Marriages by Year & Urban/Rural', fontsize=14)\n",
        "ax.set_xlabel('Year of Marriage', fontsize=12)\n",
        "ax.set_ylabel('% of Love Marriages', fontsize=12)\n",
        "ax.set_xticks(love_percentage.index)\n",
        "ax.set_xticklabels(love_percentage.index, rotation=45)\n",
        "ax.grid(axis='y', linestyle='--', alpha=0.6)\n",
        "\n",
        "# Move the legend below the graph\n",
        "ax.legend(title='Urban vs Rural', loc='upper center', bbox_to_anchor=(0.5, -0.2), ncol=2, frameon=False)\n",
        "\n",
        "# Adjust layout\n",
        "plt.tight_layout(rect=[0, 0.1, 1, 1])\n",
        "\n",
        "# Show the plot\n",
        "plt.show()"
      ],
      "metadata": {
        "trusted": true,
        "execution": {
          "iopub.status.busy": "2025-03-09T07:23:37.419251Z",
          "iopub.execute_input": "2025-03-09T07:23:37.41944Z",
          "iopub.status.idle": "2025-03-09T07:23:38.030203Z",
          "shell.execute_reply.started": "2025-03-09T07:23:37.419425Z",
          "shell.execute_reply": "2025-03-09T07:23:38.029355Z"
        },
        "id": "8a9aXc2S0Lfd"
      },
      "outputs": [],
      "execution_count": null
    },
    {
      "cell_type": "markdown",
      "source": [
        "**Comments:**\n",
        "- Investigates how marriage types differ between urban and rural settings."
      ],
      "metadata": {
        "id": "kKofigFI0Lfe"
      }
    },
    {
      "cell_type": "markdown",
      "source": [
        "#### Marriage Type by Religion"
      ],
      "metadata": {
        "id": "sb6X4Jhq0Lfe"
      }
    },
    {
      "cell_type": "code",
      "source": [
        "# Count occurrences of Maraige Type per Religion\n",
        "parental_counts = df.groupby('Religion')['Marriage_Type'].value_counts().unstack(fill_value=0)\n",
        "\n",
        "# Convert to percentage\n",
        "parental_percentage = parental_counts.div(parental_counts.sum(axis=1), axis=0).mul(100)\n",
        "\n",
        "# Combine both counts and percentages into one DataFrame\n",
        "parental_summary = parental_counts.astype(str) + \" (\" + parental_percentage.round(2).astype(str) + \"%)\"\n",
        "\n",
        "# Display result\n",
        "print(parental_summary)\n"
      ],
      "metadata": {
        "trusted": true,
        "execution": {
          "iopub.status.busy": "2025-03-09T07:23:38.030874Z",
          "iopub.execute_input": "2025-03-09T07:23:38.031084Z",
          "iopub.status.idle": "2025-03-09T07:23:38.042069Z",
          "shell.execute_reply.started": "2025-03-09T07:23:38.031067Z",
          "shell.execute_reply": "2025-03-09T07:23:38.04134Z"
        },
        "id": "S_GkPk4O0Lfe"
      },
      "outputs": [],
      "execution_count": null
    },
    {
      "cell_type": "markdown",
      "source": [
        "**Comments:**\n",
        "- Explores the preference for Love vs. Arranged marriages across religions."
      ],
      "metadata": {
        "id": "5xOBDlj-0Lfe"
      }
    },
    {
      "cell_type": "markdown",
      "source": [
        "#### Marital Satisfaction Analysis"
      ],
      "metadata": {
        "id": "cUsUaTQi0Lfe"
      }
    },
    {
      "cell_type": "code",
      "source": [
        "# Count occurrences of Urbal Marital Satisfaction per Marriage Type\n",
        "parental_counts = df.groupby('Marriage_Type')['Marital_Satisfaction'].value_counts().unstack(fill_value=0)\n",
        "\n",
        "# Convert to percentage\n",
        "parental_percentage = parental_counts.div(parental_counts.sum(axis=1), axis=0).mul(100)\n",
        "\n",
        "# Combine both counts and percentages into one DataFrame\n",
        "parental_summary = parental_counts.astype(str) + \" (\" + parental_percentage.round(2).astype(str) + \"%)\"\n",
        "\n",
        "# Display result\n",
        "print(parental_summary)\n"
      ],
      "metadata": {
        "trusted": true,
        "execution": {
          "iopub.status.busy": "2025-03-09T07:23:38.042738Z",
          "iopub.execute_input": "2025-03-09T07:23:38.04295Z",
          "iopub.status.idle": "2025-03-09T07:23:38.059148Z",
          "shell.execute_reply.started": "2025-03-09T07:23:38.042929Z",
          "shell.execute_reply": "2025-03-09T07:23:38.058407Z"
        },
        "id": "SAoYZz4s0Lfe"
      },
      "outputs": [],
      "execution_count": null
    },
    {
      "cell_type": "code",
      "source": [
        "# Marital Satisfaction trends over time\n",
        "df_satisfied = df[df['Marital_Satisfaction'].isin(['High', 'Medium'])]\n",
        "total_marriages = df.groupby(['Years_Since_Marriage', 'Marriage_Type']).size()\n",
        "satisfied_marriages = df_satisfied.groupby(['Years_Since_Marriage', 'Marriage_Type']).size()\n",
        "satisfaction_percentage = (satisfied_marriages / total_marriages).unstack(fill_value=0) * 100\n",
        "\n",
        "fig, ax = plt.subplots(figsize=(10, 6))\n",
        "for marriage_type in satisfaction_percentage.columns:\n",
        "    ax.plot(satisfaction_percentage.index, satisfaction_percentage[marriage_type], marker='o', linestyle='solid',\n",
        "            label=f'Actual: {marriage_type}', linewidth=2, alpha=0.8)\n",
        "    x = satisfaction_percentage.index.astype(int)\n",
        "    y = satisfaction_percentage[marriage_type]\n",
        "    slope, intercept = np.polyfit(x, y, 1)\n",
        "    trend_line = slope * x + intercept\n",
        "    ax.plot(x, trend_line, linestyle='dashed', linewidth=2, label=f'Trend: {marriage_type}', alpha=0.8)\n",
        "ax.set_title('Marital Satisfaction Trends Over the Years', fontsize=14)\n",
        "ax.set_xlabel('Years Since Marriage', fontsize=12)\n",
        "ax.set_ylabel('Percentage of Satisfied Marriages (%)', fontsize=12)\n",
        "ax.set_xticks(satisfaction_percentage.index)\n",
        "ax.grid(axis='y', linestyle='--', alpha=0.6)\n",
        "ax.legend(title='Marriage Type & Trends', loc='upper center', bbox_to_anchor=(0.5, -0.2), ncol=2, frameon=False)\n",
        "plt.tight_layout(rect=[0, 0.1, 1, 1])\n",
        "plt.show()"
      ],
      "metadata": {
        "trusted": true,
        "execution": {
          "iopub.status.busy": "2025-03-09T07:23:38.059842Z",
          "iopub.execute_input": "2025-03-09T07:23:38.060061Z",
          "iopub.status.idle": "2025-03-09T07:23:38.705565Z",
          "shell.execute_reply.started": "2025-03-09T07:23:38.060043Z",
          "shell.execute_reply": "2025-03-09T07:23:38.704729Z"
        },
        "id": "SUPp6AU00Lff"
      },
      "outputs": [],
      "execution_count": null
    },
    {
      "cell_type": "markdown",
      "source": [
        "**Comments:**\n",
        "- Assesses marital satisfaction levels and their trends over time."
      ],
      "metadata": {
        "id": "QZNRB1Oo0Lff"
      }
    },
    {
      "cell_type": "markdown",
      "source": [
        "#### Divorce Trends"
      ],
      "metadata": {
        "id": "f3ASnK8L0Lfj"
      }
    },
    {
      "cell_type": "code",
      "source": [
        "# Count occurrences of Divorce Status per Marriage Type\n",
        "parental_counts = df.groupby('Marriage_Type')['Divorce_Status'].value_counts().unstack(fill_value=0)\n",
        "\n",
        "# Convert to percentage\n",
        "parental_percentage = parental_counts.div(parental_counts.sum(axis=1), axis=0).mul(100)\n",
        "\n",
        "# Combine both counts and percentages into one DataFrame\n",
        "parental_summary = parental_counts.astype(str) + \" (\" + parental_percentage.round(2).astype(str) + \"%)\"\n",
        "\n",
        "# Display result\n",
        "print(parental_summary)\n"
      ],
      "metadata": {
        "trusted": true,
        "execution": {
          "iopub.status.busy": "2025-03-09T07:23:38.706387Z",
          "iopub.execute_input": "2025-03-09T07:23:38.706671Z",
          "iopub.status.idle": "2025-03-09T07:23:38.717404Z",
          "shell.execute_reply.started": "2025-03-09T07:23:38.706645Z",
          "shell.execute_reply": "2025-03-09T07:23:38.716696Z"
        },
        "id": "clGDleDd0Lfj"
      },
      "outputs": [],
      "execution_count": null
    },
    {
      "cell_type": "code",
      "source": [
        "# Divorce trends over time\n",
        "# Calculate total marriages per year and per marriage type\n",
        "total_marriages = df.groupby(['Years_Since_Marriage', 'Marriage_Type']).size().unstack(fill_value=0)\n",
        "\n",
        "# Count number of divorces per year and per marriage type\n",
        "divorces = df[df['Divorce_Status'] == 'Yes'].groupby(['Years_Since_Marriage', 'Marriage_Type']).size().unstack(fill_value=0)\n",
        "\n",
        "# Calculate percentage of divorces\n",
        "divorce_percentage = (divorces / total_marriages) * 100\n",
        "\n",
        "# Create the figure and axis\n",
        "fig, ax = plt.subplots(figsize=(10, 6))\n",
        "\n",
        "# Plot actual divorce percentage as a line graph\n",
        "for marriage_type in divorce_percentage.columns:\n",
        "    ax.plot(divorce_percentage.index, divorce_percentage[marriage_type], marker='o', linestyle='solid', label=f'Actual: {marriage_type}', linewidth=2, alpha=0.8)\n",
        "\n",
        "    # Trend Line Calculation\n",
        "    x = divorce_percentage.index.astype(int)\n",
        "    y = divorce_percentage[marriage_type]\n",
        "\n",
        "    # Fit a linear regression line\n",
        "    slope, intercept = np.polyfit(x, y, 1)\n",
        "    trend_line = slope * x + intercept\n",
        "\n",
        "    # Plot trend line\n",
        "    ax.plot(x, trend_line, linestyle='dashed', linewidth=2, label=f'Trend: {marriage_type}', alpha=0.8)\n",
        "\n",
        "# Formatting\n",
        "ax.set_title('% of Divorce Over Time by Marriage Type', fontsize=14)\n",
        "ax.set_xlabel('Years Since Marriage', fontsize=12)\n",
        "ax.set_ylabel('Divorce Percentage (%)', fontsize=12)\n",
        "ax.set_xticks(divorce_percentage.index)\n",
        "ax.set_xticklabels(divorce_percentage.index, rotation=45)\n",
        "ax.grid(axis='y', linestyle='--', alpha=0.6)\n",
        "\n",
        "# Move legend below the graph\n",
        "legend = ax.legend(title='Marriage Type & Trends', loc='upper center', bbox_to_anchor=(0.5, -0.2), ncol=2, frameon=False)\n",
        "\n",
        "# Adjust layout to prevent legend from overlapping\n",
        "plt.tight_layout(rect=[0, 0.1, 1, 1])\n",
        "\n",
        "# Show the plot\n",
        "plt.show()\n"
      ],
      "metadata": {
        "trusted": true,
        "execution": {
          "iopub.status.busy": "2025-03-09T07:23:38.718157Z",
          "iopub.execute_input": "2025-03-09T07:23:38.718386Z",
          "iopub.status.idle": "2025-03-09T07:23:39.327253Z",
          "shell.execute_reply.started": "2025-03-09T07:23:38.718365Z",
          "shell.execute_reply": "2025-03-09T07:23:39.326419Z"
        },
        "id": "y2LL-_2t0Lfj"
      },
      "outputs": [],
      "execution_count": null
    },
    {
      "cell_type": "code",
      "source": [
        "# Divorce Rate by Year and Urban/Rural\n",
        "total_marriages = df.groupby(['Year_of_Marriage', 'Urban_Rural']).size().unstack(fill_value=0)\n",
        "divorces = df[df['Divorce_Status'] == 'Yes'].groupby(['Year_of_Marriage', 'Urban_Rural']).size().unstack(fill_value=0)\n",
        "divorce_percent = (divorces / total_marriages) * 100\n",
        "\n",
        "fig, ax = plt.subplots(figsize=(10, 6))\n",
        "for area in ['Urban', 'Rural']:\n",
        "    if area in divorce_percent.columns:\n",
        "        ax.plot(divorce_percent.index, divorce_percent[area], marker='o', linestyle='solid',\n",
        "                label=f'Actual: {area}', linewidth=2, alpha=0.8)\n",
        "        x = divorce_percent.index.astype(int)\n",
        "        y = divorce_percent[area].fillna(0)\n",
        "        slope, intercept = np.polyfit(x, y, 1)\n",
        "        trend_line = slope * x + intercept\n",
        "        ax.plot(x, trend_line, linestyle='dashed', linewidth=2, label=f'Trend: {area}', alpha=0.8)\n",
        "ax.set_title('Divorce Rate Trends Over the Years (Urban vs Rural)', fontsize=14)\n",
        "ax.set_xlabel('Year of Marriage', fontsize=12)\n",
        "ax.set_ylabel('Divorce Rate (%)', fontsize=12)\n",
        "ax.set_xticks(divorce_percent.index)\n",
        "ax.set_xticklabels(divorce_percent.index, rotation=45)\n",
        "ax.grid(axis='y', linestyle='--', alpha=0.6)\n",
        "ax.legend(title='Urban vs Rural', loc='upper center', bbox_to_anchor=(0.5, -0.2), ncol=2, frameon=False)\n",
        "plt.tight_layout(rect=[0, 0.1, 1, 1])\n",
        "plt.show()"
      ],
      "metadata": {
        "trusted": true,
        "execution": {
          "iopub.status.busy": "2025-03-09T07:23:39.328077Z",
          "iopub.execute_input": "2025-03-09T07:23:39.328296Z",
          "iopub.status.idle": "2025-03-09T07:23:39.962651Z",
          "shell.execute_reply.started": "2025-03-09T07:23:39.328279Z",
          "shell.execute_reply": "2025-03-09T07:23:39.96186Z"
        },
        "id": "hRmokdPr0Lfk"
      },
      "outputs": [],
      "execution_count": null
    },
    {
      "cell_type": "markdown",
      "source": [
        "**Comments:**\n",
        "- Analyzes divorce rates and their trends over time by marriage type.\n",
        "- Compares divorce rates between urban and rural areas over time."
      ],
      "metadata": {
        "id": "C0sqGf0n0Lfk"
      }
    },
    {
      "cell_type": "markdown",
      "source": [
        "#### Inter-Caste and Inter-Religion Marriages"
      ],
      "metadata": {
        "id": "ZiUtcYb90Lfl"
      }
    },
    {
      "cell_type": "code",
      "source": [
        "# Count occurrences of Inter-Caste marriage per Marriage Type\n",
        "parental_counts = df.groupby('Marriage_Type')['Inter-Caste'].value_counts().unstack(fill_value=0)\n",
        "\n",
        "# Convert to percentage\n",
        "parental_percentage = parental_counts.div(parental_counts.sum(axis=1), axis=0).mul(100)\n",
        "\n",
        "# Combine both counts and percentages into one DataFrame\n",
        "parental_summary = parental_counts.astype(str) + \" (\" + parental_percentage.round(2).astype(str) + \"%)\"\n",
        "\n",
        "# Display result\n",
        "print(parental_summary)\n"
      ],
      "metadata": {
        "trusted": true,
        "execution": {
          "iopub.status.busy": "2025-03-09T07:23:39.963323Z",
          "iopub.execute_input": "2025-03-09T07:23:39.963501Z",
          "iopub.status.idle": "2025-03-09T07:23:39.973885Z",
          "shell.execute_reply.started": "2025-03-09T07:23:39.963485Z",
          "shell.execute_reply": "2025-03-09T07:23:39.973015Z"
        },
        "id": "f8sBPrVP0Lfl"
      },
      "outputs": [],
      "execution_count": null
    },
    {
      "cell_type": "code",
      "source": [
        "# Inter-Caste trends over time\n",
        "inter_caste_counts = df[df['Inter-Caste'] == 'Yes'].groupby(['Year_of_Marriage', 'Marriage_Type']).size()\n",
        "total_counts = df.groupby(['Year_of_Marriage', 'Marriage_Type']).size()\n",
        "inter_caste_percentage = (inter_caste_counts / total_counts).unstack(fill_value=0) * 100\n",
        "\n",
        "fig, ax = plt.subplots(figsize=(10, 6))\n",
        "for marriage_type in inter_caste_percentage.columns:\n",
        "    ax.plot(inter_caste_percentage.index, inter_caste_percentage[marriage_type], marker='o', linestyle='solid',\n",
        "            label=f'Actual: {marriage_type}', linewidth=2, alpha=0.8)\n",
        "    x = inter_caste_percentage.index.astype(int)\n",
        "    y = inter_caste_percentage[marriage_type]\n",
        "    slope, intercept = np.polyfit(x, y, 1)\n",
        "    trend_line = slope * x + intercept\n",
        "    ax.plot(x, trend_line, linestyle='dashed', linewidth=2, label=f'Trend: {marriage_type}', alpha=0.8)\n",
        "ax.set_title('% of Inter-Caste Marriages Over the Years', fontsize=14)\n",
        "ax.set_xlabel('Year of Marriage', fontsize=12)\n",
        "ax.set_ylabel('Percentage (%)', fontsize=12)\n",
        "ax.set_xticks(inter_caste_percentage.index)\n",
        "ax.set_xticklabels(inter_caste_percentage.index, rotation=45)\n",
        "ax.grid(axis='y', linestyle='--', alpha=0.6)\n",
        "ax.legend(title='Marriage Type & Trends', loc='upper center', bbox_to_anchor=(0.5, -0.2), ncol=2, frameon=False)\n",
        "plt.tight_layout(rect=[0, 0.1, 1, 1])\n",
        "plt.show()"
      ],
      "metadata": {
        "trusted": true,
        "execution": {
          "iopub.status.busy": "2025-03-09T07:23:39.974547Z",
          "iopub.execute_input": "2025-03-09T07:23:39.974764Z",
          "iopub.status.idle": "2025-03-09T07:23:40.59095Z",
          "shell.execute_reply.started": "2025-03-09T07:23:39.974745Z",
          "shell.execute_reply": "2025-03-09T07:23:40.589748Z"
        },
        "id": "8vhM6vd30Lfl"
      },
      "outputs": [],
      "execution_count": null
    },
    {
      "cell_type": "code",
      "source": [
        "# Inter-Religion by Marriage Type\n",
        "parental_counts = df.groupby('Marriage_Type')['Inter-Religion'].value_counts().unstack(fill_value=0)\n",
        "parental_percentage = parental_counts.div(parental_counts.sum(axis=1), axis=0).mul(100)\n",
        "parental_summary = parental_counts.astype(str) + \" (\" + parental_percentage.round(2).astype(str) + \"%)\"\n",
        "print(\"Inter-Religion Marriages by Marriage Type:\")\n",
        "print(parental_summary)"
      ],
      "metadata": {
        "trusted": true,
        "execution": {
          "iopub.status.busy": "2025-03-09T07:23:40.591844Z",
          "iopub.execute_input": "2025-03-09T07:23:40.592151Z",
          "iopub.status.idle": "2025-03-09T07:23:40.604907Z",
          "shell.execute_reply.started": "2025-03-09T07:23:40.592126Z",
          "shell.execute_reply": "2025-03-09T07:23:40.604178Z"
        },
        "id": "F4UtyYM_0Lfl"
      },
      "outputs": [],
      "execution_count": null
    },
    {
      "cell_type": "code",
      "source": [
        "# Count occurrences of Inter-Caste marriage per Income Level\n",
        "parental_counts = df.groupby('Income_Level')['Inter-Caste'].value_counts().unstack(fill_value=0)\n",
        "\n",
        "# Convert to percentage\n",
        "parental_percentage = parental_counts.div(parental_counts.sum(axis=1), axis=0).mul(100)\n",
        "\n",
        "# Combine both counts and percentages into one DataFrame\n",
        "parental_summary = parental_counts.astype(str) + \" (\" + parental_percentage.round(2).astype(str) + \"%)\"\n",
        "\n",
        "# Display result\n",
        "print(parental_summary)\n"
      ],
      "metadata": {
        "trusted": true,
        "execution": {
          "iopub.status.busy": "2025-03-09T07:23:40.607973Z",
          "iopub.execute_input": "2025-03-09T07:23:40.608211Z",
          "iopub.status.idle": "2025-03-09T07:23:40.617856Z",
          "shell.execute_reply.started": "2025-03-09T07:23:40.608192Z",
          "shell.execute_reply": "2025-03-09T07:23:40.617075Z"
        },
        "id": "c7lSRlFB0Lfm"
      },
      "outputs": [],
      "execution_count": null
    },
    {
      "cell_type": "code",
      "source": [
        "# Count occurrences of Inter-Religion marriage per Marriage Type\n",
        "parental_counts = df.groupby('Marriage_Type')['Inter-Religion'].value_counts().unstack(fill_value=0)\n",
        "\n",
        "# Convert to percentage\n",
        "parental_percentage = parental_counts.div(parental_counts.sum(axis=1), axis=0).mul(100)\n",
        "\n",
        "# Combine both counts and percentages into one DataFrame\n",
        "parental_summary = parental_counts.astype(str) + \" (\" + parental_percentage.round(2).astype(str) + \"%)\"\n",
        "\n",
        "# Display result\n",
        "print(parental_summary)\n"
      ],
      "metadata": {
        "trusted": true,
        "execution": {
          "iopub.status.busy": "2025-03-09T07:23:40.618925Z",
          "iopub.execute_input": "2025-03-09T07:23:40.619172Z",
          "iopub.status.idle": "2025-03-09T07:23:40.635671Z",
          "shell.execute_reply.started": "2025-03-09T07:23:40.619155Z",
          "shell.execute_reply": "2025-03-09T07:23:40.634963Z"
        },
        "id": "V2fBUMV00Lfm"
      },
      "outputs": [],
      "execution_count": null
    },
    {
      "cell_type": "code",
      "source": [
        "# Count occurrences of Inter-Religion marriage per Income Level\n",
        "parental_counts = df.groupby('Income_Level')['Inter-Religion'].value_counts().unstack(fill_value=0)\n",
        "\n",
        "# Convert to percentage\n",
        "parental_percentage = parental_counts.div(parental_counts.sum(axis=1), axis=0).mul(100)\n",
        "\n",
        "# Combine both counts and percentages into one DataFrame\n",
        "parental_summary = parental_counts.astype(str) + \" (\" + parental_percentage.round(2).astype(str) + \"%)\"\n",
        "\n",
        "# Display result\n",
        "print(parental_summary)"
      ],
      "metadata": {
        "trusted": true,
        "execution": {
          "iopub.status.busy": "2025-03-09T07:23:40.636347Z",
          "iopub.execute_input": "2025-03-09T07:23:40.636579Z",
          "iopub.status.idle": "2025-03-09T07:23:40.646726Z",
          "shell.execute_reply.started": "2025-03-09T07:23:40.636557Z",
          "shell.execute_reply": "2025-03-09T07:23:40.645931Z"
        },
        "id": "yZwVvfTM0Lfm"
      },
      "outputs": [],
      "execution_count": null
    },
    {
      "cell_type": "code",
      "source": [
        "# Calculate total marriages per year per type\n",
        "total_marriages = df.groupby(['Year_of_Marriage', 'Marriage_Type']).size()\n",
        "\n",
        "# Calculate inter-religion marriages per year per type\n",
        "inter_religion_counts = df[df['Inter-Religion'] == 'Yes'].groupby(['Year_of_Marriage', 'Marriage_Type']).size()\n",
        "\n",
        "# Compute % of inter-religion marriages\n",
        "inter_religion_percent = (inter_religion_counts / total_marriages * 100).unstack(fill_value=0)\n",
        "\n",
        "# Plot actual data as a line graph\n",
        "fig, ax = plt.subplots(figsize=(10, 6))\n",
        "\n",
        "for marriage_type in inter_religion_percent.columns:\n",
        "    ax.plot(inter_religion_percent.index, inter_religion_percent[marriage_type], marker='o', linestyle='solid',\n",
        "            label=f'Actual: {marriage_type}', linewidth=2, alpha=0.8)\n",
        "\n",
        "    # Fit and plot trend line\n",
        "    x = inter_religion_percent.index.astype(int)\n",
        "    y = inter_religion_percent[marriage_type]\n",
        "    slope, intercept = np.polyfit(x, y, 1)  # Linear regression\n",
        "    trend_line = slope * x + intercept\n",
        "    ax.plot(x, trend_line, linestyle='dashed', linewidth=2, label=f'Trend: {marriage_type}', alpha=0.8)\n",
        "\n",
        "# Formatting\n",
        "ax.set_title('% of Inter-Religion Marriages Over the Years', fontsize=14)\n",
        "ax.set_xlabel('Year of Marriage', fontsize=12)\n",
        "ax.set_ylabel('Percentage (%)', fontsize=12)\n",
        "ax.set_xticks(inter_religion_percent.index)\n",
        "ax.set_xticklabels(inter_religion_percent.index, rotation=45)\n",
        "ax.grid(axis='y', linestyle='--', alpha=0.6)\n",
        "\n",
        "# Move legend below the graph\n",
        "ax.legend(title='Marriage Type & Trends', loc='upper center', bbox_to_anchor=(0.5, -0.2), ncol=2, frameon=False)\n",
        "\n",
        "# Adjust layout to prevent legend from overlapping\n",
        "plt.tight_layout(rect=[0, 0.1, 1, 1])\n",
        "\n",
        "# Show plot\n",
        "plt.show()"
      ],
      "metadata": {
        "trusted": true,
        "execution": {
          "iopub.status.busy": "2025-03-09T07:23:40.647498Z",
          "iopub.execute_input": "2025-03-09T07:23:40.647748Z",
          "iopub.status.idle": "2025-03-09T07:23:41.344417Z",
          "shell.execute_reply.started": "2025-03-09T07:23:40.647728Z",
          "shell.execute_reply": "2025-03-09T07:23:41.343491Z"
        },
        "id": "iLgXpX7u0Lfm"
      },
      "outputs": [],
      "execution_count": null
    },
    {
      "cell_type": "markdown",
      "source": [
        "**Comments:**\n",
        "- Examines the prevalence and trends of inter-caste and inter-religion marriages."
      ],
      "metadata": {
        "id": "nC9dqgbC0Lfn"
      }
    },
    {
      "cell_type": "markdown",
      "source": [
        "#### Spouse Working Status"
      ],
      "metadata": {
        "id": "RijO61a30Lfn"
      }
    },
    {
      "cell_type": "code",
      "source": [
        "# Count occurrences of Spouse Working per Marriage Type\n",
        "parental_counts = df.groupby('Marriage_Type')['Spouse_Working'].value_counts().unstack(fill_value=0)\n",
        "\n",
        "# Convert to percentage\n",
        "parental_percentage = parental_counts.div(parental_counts.sum(axis=1), axis=0).mul(100)\n",
        "\n",
        "# Combine both counts and percentages into one DataFrame\n",
        "parental_summary = parental_counts.astype(str) + \" (\" + parental_percentage.round(2).astype(str) + \"%)\"\n",
        "\n",
        "# Display result\n",
        "print(parental_summary)\n"
      ],
      "metadata": {
        "trusted": true,
        "execution": {
          "iopub.status.busy": "2025-03-09T07:23:41.345187Z",
          "iopub.execute_input": "2025-03-09T07:23:41.345369Z",
          "iopub.status.idle": "2025-03-09T07:23:41.356768Z",
          "shell.execute_reply.started": "2025-03-09T07:23:41.345352Z",
          "shell.execute_reply": "2025-03-09T07:23:41.356162Z"
        },
        "id": "grIozAHn0Lfn"
      },
      "outputs": [],
      "execution_count": null
    },
    {
      "cell_type": "code",
      "source": [
        "# Count occurrences of Spouse Working by Income Level\n",
        "parental_counts = df.groupby('Income_Level')['Spouse_Working'].value_counts().unstack(fill_value=0)\n",
        "\n",
        "# Convert to percentage\n",
        "parental_percentage = parental_counts.div(parental_counts.sum(axis=1), axis=0).mul(100)\n",
        "\n",
        "# Combine both counts and percentages into one DataFrame\n",
        "parental_summary = parental_counts.astype(str) + \" (\" + parental_percentage.round(2).astype(str) + \"%)\"\n",
        "\n",
        "# Display result\n",
        "print(parental_summary)"
      ],
      "metadata": {
        "trusted": true,
        "execution": {
          "iopub.status.busy": "2025-03-09T07:23:41.357452Z",
          "iopub.execute_input": "2025-03-09T07:23:41.35769Z",
          "iopub.status.idle": "2025-03-09T07:23:41.367934Z",
          "shell.execute_reply.started": "2025-03-09T07:23:41.357668Z",
          "shell.execute_reply": "2025-03-09T07:23:41.367258Z"
        },
        "id": "MPKzTT3M0Lfn"
      },
      "outputs": [],
      "execution_count": null
    },
    {
      "cell_type": "markdown",
      "source": [
        "**Comments:**\n",
        "- Analyzes the employment status of spouses in Love vs. Arranged marriages and by Income Level"
      ],
      "metadata": {
        "id": "MdQUhLs-0Lfn"
      }
    },
    {
      "cell_type": "markdown",
      "source": [
        "#### Children Count Analysis"
      ],
      "metadata": {
        "id": "WTdbvX8t0Lfn"
      }
    },
    {
      "cell_type": "code",
      "source": [
        "# Average number of children by Marriage Type\n",
        "average_children = df.groupby('Marriage_Type')['Children_Count'].mean()\n",
        "print(average_children)"
      ],
      "metadata": {
        "trusted": true,
        "execution": {
          "iopub.status.busy": "2025-03-09T07:23:41.368444Z",
          "iopub.execute_input": "2025-03-09T07:23:41.368608Z",
          "iopub.status.idle": "2025-03-09T07:23:41.373459Z",
          "shell.execute_reply.started": "2025-03-09T07:23:41.368594Z",
          "shell.execute_reply": "2025-03-09T07:23:41.372861Z"
        },
        "id": "edv4O-2B0Lfo"
      },
      "outputs": [],
      "execution_count": null
    },
    {
      "cell_type": "code",
      "source": [
        "average_children = df.groupby('Income_Level')['Children_Count'].mean()\n",
        "print(average_children)"
      ],
      "metadata": {
        "trusted": true,
        "execution": {
          "iopub.status.busy": "2025-03-09T07:23:41.374073Z",
          "iopub.execute_input": "2025-03-09T07:23:41.374319Z",
          "iopub.status.idle": "2025-03-09T07:23:41.385379Z",
          "shell.execute_reply.started": "2025-03-09T07:23:41.374297Z",
          "shell.execute_reply": "2025-03-09T07:23:41.384735Z"
        },
        "id": "V0U68J7k0Lfo"
      },
      "outputs": [],
      "execution_count": null
    },
    {
      "cell_type": "markdown",
      "source": [
        "**Comments:**\n",
        "- Compares the average number of children between marriage types."
      ],
      "metadata": {
        "id": "oc6d_K6X0Lfo"
      }
    },
    {
      "cell_type": "markdown",
      "source": [
        "#### Dowry Trends by Urban/Rural"
      ],
      "metadata": {
        "id": "Qp44CFEN0Lfo"
      }
    },
    {
      "cell_type": "code",
      "source": [
        "# Count occurrences of Dowry exchanges in Urban Vs Rural Areas\n",
        "parental_counts = df.groupby('Urban_Rural')['Dowry_Exchanged'].value_counts().unstack(fill_value=0)\n",
        "\n",
        "# Convert to percentage\n",
        "parental_percentage = parental_counts.div(parental_counts.sum(axis=1), axis=0).mul(100)\n",
        "\n",
        "# Combine both counts and percentages into one DataFrame\n",
        "parental_summary = parental_counts.astype(str) + \" (\" + parental_percentage.round(2).astype(str) + \"%)\"\n",
        "\n",
        "# Display result\n",
        "print(parental_summary)\n"
      ],
      "metadata": {
        "trusted": true,
        "execution": {
          "iopub.status.busy": "2025-03-09T07:23:41.385992Z",
          "iopub.execute_input": "2025-03-09T07:23:41.386231Z",
          "iopub.status.idle": "2025-03-09T07:23:41.404064Z",
          "shell.execute_reply.started": "2025-03-09T07:23:41.386209Z",
          "shell.execute_reply": "2025-03-09T07:23:41.403447Z"
        },
        "id": "4YZkhkbd0Lfo"
      },
      "outputs": [],
      "execution_count": null
    },
    {
      "cell_type": "code",
      "source": [
        "# % of Dowry in Marriage by Year and Urban/Rural\n",
        "dowry_counts = df.groupby(['Year_of_Marriage', 'Urban_Rural'])['Dowry_Exchanged'].value_counts(normalize=True).unstack(fill_value=0)\n",
        "dowry_percent = dowry_counts['Yes'] * 100\n",
        "\n",
        "fig, ax = plt.subplots(figsize=(10, 6))\n",
        "for category in dowry_percent.index.get_level_values(1).unique():\n",
        "    data = dowry_percent.xs(category, level=1)\n",
        "    ax.plot(data.index, data, marker='o', linestyle='solid', label=f'Actual: {category}', linewidth=2, alpha=0.8)\n",
        "    x = data.index.astype(int)\n",
        "    y = data.values\n",
        "    slope, intercept = np.polyfit(x, y, 1)\n",
        "    trend_line = slope * x + intercept\n",
        "    ax.plot(x, trend_line, linestyle='dashed', linewidth=2, label=f'Trend: {category}', alpha=0.8)\n",
        "ax.set_title('% of Dowry in Marriage by Year (Urban vs. Rural)', fontsize=14)\n",
        "ax.set_xlabel('Year of Marriage', fontsize=12)\n",
        "ax.set_ylabel('Percentage (%)', fontsize=12)\n",
        "ax.set_xticks(dowry_percent.index.get_level_values(0).unique())\n",
        "ax.set_xticklabels(dowry_percent.index.get_level_values(0).unique(), rotation=45)\n",
        "ax.grid(axis='y', linestyle='--', alpha=0.6)\n",
        "ax.legend(title='Urban/Rural & Trends', loc='upper center', bbox_to_anchor=(0.5, -0.2), ncol=2, frameon=False)\n",
        "plt.tight_layout(rect=[0, 0.1, 1, 1])\n",
        "plt.show()"
      ],
      "metadata": {
        "trusted": true,
        "execution": {
          "iopub.status.busy": "2025-03-09T07:23:41.404655Z",
          "iopub.execute_input": "2025-03-09T07:23:41.404871Z",
          "iopub.status.idle": "2025-03-09T07:23:42.029896Z",
          "shell.execute_reply.started": "2025-03-09T07:23:41.404855Z",
          "shell.execute_reply": "2025-03-09T07:23:42.029252Z"
        },
        "id": "8QPFGvGL0Lfo"
      },
      "outputs": [],
      "execution_count": null
    },
    {
      "cell_type": "markdown",
      "source": [
        "**Comments:**\n",
        "- Analyzes the prevalence of dowry exchanges over time in urban vs. rural areas."
      ],
      "metadata": {
        "id": "eizTINSP0Lfp"
      }
    },
    {
      "cell_type": "markdown",
      "source": [
        "#### Marriage Trends by Income Level"
      ],
      "metadata": {
        "id": "qveTVGP30Lfp"
      }
    },
    {
      "cell_type": "code",
      "source": [
        "# Count occurrences of Maraige Type per Income Level\n",
        "parental_counts = df.groupby('Income_Level')['Marriage_Type'].value_counts().unstack(fill_value=0)\n",
        "\n",
        "# Convert to percentage\n",
        "parental_percentage = parental_counts.div(parental_counts.sum(axis=1), axis=0).mul(100)\n",
        "\n",
        "# Combine both counts and percentages into one DataFrame\n",
        "parental_summary = parental_counts.astype(str) + \" (\" + parental_percentage.round(2).astype(str) + \"%)\"\n",
        "\n",
        "# Display result\n",
        "print(parental_summary)"
      ],
      "metadata": {
        "trusted": true,
        "execution": {
          "iopub.status.busy": "2025-03-09T07:23:42.030475Z",
          "iopub.execute_input": "2025-03-09T07:23:42.030649Z",
          "iopub.status.idle": "2025-03-09T07:23:42.04059Z",
          "shell.execute_reply.started": "2025-03-09T07:23:42.030634Z",
          "shell.execute_reply": "2025-03-09T07:23:42.040025Z"
        },
        "id": "r3xZeMpA0Lfp"
      },
      "outputs": [],
      "execution_count": null
    },
    {
      "cell_type": "code",
      "source": [
        "average_Age_of_Marriage = df.groupby('Income_Level')['Age_at_Marriage'].mean()\n",
        "print(average_Age_of_Marriage)"
      ],
      "metadata": {
        "trusted": true,
        "execution": {
          "iopub.status.busy": "2025-03-09T07:23:42.041208Z",
          "iopub.execute_input": "2025-03-09T07:23:42.041391Z",
          "iopub.status.idle": "2025-03-09T07:23:42.053114Z",
          "shell.execute_reply.started": "2025-03-09T07:23:42.041374Z",
          "shell.execute_reply": "2025-03-09T07:23:42.052455Z"
        },
        "id": "yBNu_XJf0Lfp"
      },
      "outputs": [],
      "execution_count": null
    },
    {
      "cell_type": "markdown",
      "source": [
        "### Summary of Findings\n",
        "This analysis of the \"Marriage Trends in India: Love vs. Arranged\" dataset provides valuable insights into the evolving dynamics of marital preferences and their socio-cultural implications in India. The key findings are as follows:\n",
        "\n",
        "1. **Temporal Trends**: The proportion of Love marriages has risen over time, while Arranged marriages exhibit a declining trend, signaling a gradual shift in societal norms.\n",
        "\n",
        "2. **Age at Marriage**: Individuals in Love marriages marry at an average age of 28.54 years, slightly higher than the 28.47 years for Arranged marriages, suggesting marginal differences in life stage preferences.\n",
        "\n",
        "3. **Educational Influence**: Education level exerts minimal influence on marriage type, with Arranged marriages consistently at approximately 60% and Love marriages at 40%. However, Graduates and Postgraduates exhibit a slightly higher inclination toward Love marriages compared to those with PhD or School-level education.\n",
        "\n",
        "4. **Parental Approval**: Arranged marriages enjoy a high parental approval rate of 90.25% (Full/Partial), compared to 88.79% for Love marriages, underscoring the enduring role of familial consent in Indian marriages.\n",
        "\n",
        "5. **Urban-Rural Divide**: Love marriages are marginally more prevalent in urban areas (39.9%), while Arranged marriages predominate in rural regions (60.4%). Trend analysis reveals that Love marriages were more prominent in urban areas from 1976 to 1999, but post-2005, their popularity has surged in rural settings.\n",
        "\n",
        "6. **Religious Patterns**: Arranged marriages are most prevalent among Christians (62.7%), followed by Hindus (60.3%), Muslims (59.6%), Sikhs (58.7%), and other religions (58%), reflecting varying degrees of adherence to traditional practices.\n",
        "\n",
        "7. **Marital Satisfaction**: Arranged marriages report a satisfaction rate of 80.1% (High + Medium), slightly surpassing Love marriages at 79.66%. Over time, satisfaction in Love marriages shows a declining trend, while it remains stable for Arranged marriages.\n",
        "\n",
        "8. **Divorce Rates**: Love marriages exhibit a higher divorce rate (10.1%) compared to Arranged marriages. Early in marriage, Love marriages display elevated divorce rates; however, beyond 40 years, Arranged marriages surpass them. Additionally, divorce rates are decreasing in rural areas while rising in urban centers.\n",
        "\n",
        "9. **Inter-Caste and Inter-Religion Dynamics**: Love marriages have higher inter-caste (30.1%) but lower inter-religion (20.1%) rates, whereas Arranged marriages show slightly lower inter-caste (29.4%) and higher inter-religion (20.4%) rates. Notably, Inter-Caste Arranged marriages have surged since 2003, overtaking Love marriages, while Inter-Religion Love marriages are declining.\n",
        "\n",
        "10. **Spouse Employment**: Spouses in Love marriages are more likely to be employed (51.8%) compared to Arranged marriages (49.6%), potentially contributing to higher household income levels.\n",
        "\n",
        "11. **Fertility Patterns**: Couples in Arranged marriages have an average of 2.53 children, slightly more than the 2.47 in Love marriages, indicating modest differences in family planning.\n",
        "\n",
        "12. **Dowry Practices**: Dowry exchanges are more frequent in urban areas (31%) and show an upward trend, reflecting economic and cultural shifts.\n",
        "\n",
        "13. **Income Influence**: Middle-income families exhibit a higher tendency toward Love marriages (40.3%) compared to low-income (39.45%) or high-income (39%) families. Higher income levels correlate with earlier marriages, suggesting economic stability as a factor in marital timing.\n",
        "\n",
        "These findings offer a comprehensive perspective on marriage trends in India, highlighting the interplay of tradition, modernity, and socio-economic factors in shaping marital choices and outcomes."
      ],
      "metadata": {
        "id": "HMNZMOMr0Lfp"
      }
    },
    {
      "cell_type": "markdown",
      "source": [
        "### Additional Analysis Suggestions\n",
        "1. **Correlation Analysis**:\n",
        "   - Compute correlations between `Age_at_Marriage`, `Income_Level`, `Children_Count`, and `Marital_Satisfaction` to identify relationships.\n",
        "   - Example: `sns.heatmap(df[['Age_at_Marriage', 'Children_Count', 'Marital_Satisfaction']].corr(), annot=True)`\n",
        "\n",
        "2. **Box Plots**:\n",
        "   - Create box plots to visualize the distribution of `Age_at_Marriage` or `Children_Count` by `Marriage_Type` or `Income_Level`.\n",
        "   - Example: `sns.boxplot(x='Marriage_Type', y='Age_at_Marriage', data=df)`\n",
        "\n",
        "3. **Regional Analysis**:\n",
        "   - If the dataset includes a `Region` or `State` column, analyze marriage trends by geographic region.\n",
        "\n",
        "4. **Satisfaction vs. Divorce**:\n",
        "   - Cross-tabulate `Marital_Satisfaction` and `Divorce_Status` to see if lower satisfaction correlates with higher divorce rates.\n",
        "\n",
        "5. **Time Series Forecasting**:\n",
        "   - Use a simple model (e.g., ARIMA) to predict future trends in Love vs. Arranged marriage percentages based on `Year_of_Marriage`.\n",
        "\n",
        "6. **Stacked Bar Charts**:\n",
        "   - Visualize the composition of `Marriage_Type` within `Religion` or `Income_Level` using stacked bar charts for a clearer comparison."
      ],
      "metadata": {
        "id": "5alVanJ-0Lfq"
      }
    }
  ]
}